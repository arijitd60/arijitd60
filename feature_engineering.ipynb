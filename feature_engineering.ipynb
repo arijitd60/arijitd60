{
  "nbformat": 4,
  "nbformat_minor": 5,
  "metadata": {
    "kernelspec": {
      "display_name": "Python 3",
      "language": "python",
      "name": "python3"
    },
    "language_info": {
      "codemirror_mode": {
        "name": "ipython",
        "version": 3
      },
      "file_extension": ".py",
      "mimetype": "text/x-python",
      "name": "python",
      "nbconvert_exporter": "python",
      "pygments_lexer": "ipython3",
      "version": "3.8.5"
    },
    "colab": {
      "name": "feature_engineering.ipynb",
      "provenance": [],
      "include_colab_link": true
    }
  },
  "cells": [
    {
      "cell_type": "markdown",
      "metadata": {
        "id": "view-in-github",
        "colab_type": "text"
      },
      "source": [
        "<a href=\"https://colab.research.google.com/github/arijitd60/arijitd60/blob/main/feature_engineering.ipynb\" target=\"_parent\"><img src=\"https://colab.research.google.com/assets/colab-badge.svg\" alt=\"Open In Colab\"/></a>"
      ]
    },
    {
      "cell_type": "markdown",
      "metadata": {
        "id": "korean-wednesday"
      },
      "source": [
        "# Feature Engineering\n",
        "Load the `adult` dataset. Preprocess the dataset by removing missing values, encoding categorical attributes, normalizing/scaling the features, and reducing the dimensionality of the dataset. Split the dataset into training and test sets. Train and test a support vector machine model using scikit-learn. Evaluate the impact of the feature engineering step on the effectiveness and efficiency of the model."
      ],
      "id": "korean-wednesday"
    },
    {
      "cell_type": "markdown",
      "metadata": {
        "id": "ybq2sIAgruR_"
      },
      "source": [
        "Importing of Modules"
      ],
      "id": "ybq2sIAgruR_"
    },
    {
      "cell_type": "code",
      "metadata": {
        "id": "wZAWDnoLryAu"
      },
      "source": [
        "import numpy as np\n",
        "import pandas as pd\n",
        "import sklearn.model_selection\n",
        "import sklearn.svm\n",
        "import sklearn.metrics\n",
        "import sklearn.preprocessing\n",
        "import plotly.express as py"
      ],
      "id": "wZAWDnoLryAu",
      "execution_count": 47,
      "outputs": []
    },
    {
      "cell_type": "markdown",
      "metadata": {
        "id": "JNIK9GSpr1QI"
      },
      "source": [
        "Loading the Dataset"
      ],
      "id": "JNIK9GSpr1QI"
    },
    {
      "cell_type": "code",
      "metadata": {
        "colab": {
          "base_uri": "https://localhost:8080/",
          "height": 336
        },
        "id": "RCwrXIfsr2_u",
        "outputId": "d1a249b2-d98f-4730-ae42-a21db7e107c1"
      },
      "source": [
        "df = pd.read_csv(\"adult.csv\")\n",
        "print(df.shape)\n",
        "df.head()"
      ],
      "id": "RCwrXIfsr2_u",
      "execution_count": 48,
      "outputs": [
        {
          "output_type": "stream",
          "name": "stdout",
          "text": [
            "(32561, 15)\n"
          ]
        },
        {
          "output_type": "execute_result",
          "data": {
            "text/html": [
              "<div>\n",
              "<style scoped>\n",
              "    .dataframe tbody tr th:only-of-type {\n",
              "        vertical-align: middle;\n",
              "    }\n",
              "\n",
              "    .dataframe tbody tr th {\n",
              "        vertical-align: top;\n",
              "    }\n",
              "\n",
              "    .dataframe thead th {\n",
              "        text-align: right;\n",
              "    }\n",
              "</style>\n",
              "<table border=\"1\" class=\"dataframe\">\n",
              "  <thead>\n",
              "    <tr style=\"text-align: right;\">\n",
              "      <th></th>\n",
              "      <th>age</th>\n",
              "      <th>workclass</th>\n",
              "      <th>fnlwgt</th>\n",
              "      <th>education</th>\n",
              "      <th>education-num</th>\n",
              "      <th>marital-status</th>\n",
              "      <th>occupation</th>\n",
              "      <th>relationship</th>\n",
              "      <th>race</th>\n",
              "      <th>sex</th>\n",
              "      <th>capital-gain</th>\n",
              "      <th>capital-loss</th>\n",
              "      <th>hours-per-week</th>\n",
              "      <th>native-country</th>\n",
              "      <th>target</th>\n",
              "    </tr>\n",
              "  </thead>\n",
              "  <tbody>\n",
              "    <tr>\n",
              "      <th>0</th>\n",
              "      <td>39</td>\n",
              "      <td>State-gov</td>\n",
              "      <td>77516</td>\n",
              "      <td>Bachelors</td>\n",
              "      <td>13</td>\n",
              "      <td>Never-married</td>\n",
              "      <td>Adm-clerical</td>\n",
              "      <td>Not-in-family</td>\n",
              "      <td>White</td>\n",
              "      <td>Male</td>\n",
              "      <td>2174</td>\n",
              "      <td>0</td>\n",
              "      <td>40</td>\n",
              "      <td>United-States</td>\n",
              "      <td>&lt;=50K</td>\n",
              "    </tr>\n",
              "    <tr>\n",
              "      <th>1</th>\n",
              "      <td>50</td>\n",
              "      <td>Self-emp-not-inc</td>\n",
              "      <td>83311</td>\n",
              "      <td>Bachelors</td>\n",
              "      <td>13</td>\n",
              "      <td>Married-civ-spouse</td>\n",
              "      <td>Exec-managerial</td>\n",
              "      <td>Husband</td>\n",
              "      <td>White</td>\n",
              "      <td>Male</td>\n",
              "      <td>0</td>\n",
              "      <td>0</td>\n",
              "      <td>13</td>\n",
              "      <td>United-States</td>\n",
              "      <td>&lt;=50K</td>\n",
              "    </tr>\n",
              "    <tr>\n",
              "      <th>2</th>\n",
              "      <td>38</td>\n",
              "      <td>Private</td>\n",
              "      <td>215646</td>\n",
              "      <td>HS-grad</td>\n",
              "      <td>9</td>\n",
              "      <td>Divorced</td>\n",
              "      <td>Handlers-cleaners</td>\n",
              "      <td>Not-in-family</td>\n",
              "      <td>White</td>\n",
              "      <td>Male</td>\n",
              "      <td>0</td>\n",
              "      <td>0</td>\n",
              "      <td>40</td>\n",
              "      <td>United-States</td>\n",
              "      <td>&lt;=50K</td>\n",
              "    </tr>\n",
              "    <tr>\n",
              "      <th>3</th>\n",
              "      <td>53</td>\n",
              "      <td>Private</td>\n",
              "      <td>234721</td>\n",
              "      <td>11th</td>\n",
              "      <td>7</td>\n",
              "      <td>Married-civ-spouse</td>\n",
              "      <td>Handlers-cleaners</td>\n",
              "      <td>Husband</td>\n",
              "      <td>Black</td>\n",
              "      <td>Male</td>\n",
              "      <td>0</td>\n",
              "      <td>0</td>\n",
              "      <td>40</td>\n",
              "      <td>United-States</td>\n",
              "      <td>&lt;=50K</td>\n",
              "    </tr>\n",
              "    <tr>\n",
              "      <th>4</th>\n",
              "      <td>28</td>\n",
              "      <td>Private</td>\n",
              "      <td>338409</td>\n",
              "      <td>Bachelors</td>\n",
              "      <td>13</td>\n",
              "      <td>Married-civ-spouse</td>\n",
              "      <td>Prof-specialty</td>\n",
              "      <td>Wife</td>\n",
              "      <td>Black</td>\n",
              "      <td>Female</td>\n",
              "      <td>0</td>\n",
              "      <td>0</td>\n",
              "      <td>40</td>\n",
              "      <td>Cuba</td>\n",
              "      <td>&lt;=50K</td>\n",
              "    </tr>\n",
              "  </tbody>\n",
              "</table>\n",
              "</div>"
            ],
            "text/plain": [
              "   age          workclass  fnlwgt  ... hours-per-week  native-country  target\n",
              "0   39          State-gov   77516  ...             40   United-States   <=50K\n",
              "1   50   Self-emp-not-inc   83311  ...             13   United-States   <=50K\n",
              "2   38            Private  215646  ...             40   United-States   <=50K\n",
              "3   53            Private  234721  ...             40   United-States   <=50K\n",
              "4   28            Private  338409  ...             40            Cuba   <=50K\n",
              "\n",
              "[5 rows x 15 columns]"
            ]
          },
          "metadata": {},
          "execution_count": 48
        }
      ]
    },
    {
      "cell_type": "markdown",
      "metadata": {
        "id": "ob45TfTRsLzC"
      },
      "source": [
        "Removing Missing Values"
      ],
      "id": "ob45TfTRsLzC"
    },
    {
      "cell_type": "code",
      "metadata": {
        "colab": {
          "base_uri": "https://localhost:8080/"
        },
        "id": "Ft_MUEav7yPn",
        "outputId": "330c0353-93f9-474a-b28a-4687e14c722f"
      },
      "source": [
        "#print(df.columns)\n",
        "#df[\"workclass\"].value_counts()\n",
        "df = df.replace(' ?',np.NaN)\n",
        "df = df.dropna()\n",
        "df.shape"
      ],
      "id": "Ft_MUEav7yPn",
      "execution_count": 41,
      "outputs": [
        {
          "output_type": "execute_result",
          "data": {
            "text/plain": [
              "(30162, 15)"
            ]
          },
          "metadata": {},
          "execution_count": 41
        }
      ]
    },
    {
      "cell_type": "markdown",
      "metadata": {
        "id": "rsWKULV790vu"
      },
      "source": [
        "Splitting the Data into Training and Test sets"
      ],
      "id": "rsWKULV790vu"
    },
    {
      "cell_type": "code",
      "metadata": {
        "colab": {
          "base_uri": "https://localhost:8080/"
        },
        "id": "NCXrnMJU98eW",
        "outputId": "ceab305c-8e4c-4b75-b990-21f8352dadf5"
      },
      "source": [
        "x = df.drop([\"target\"], axis=1)\n",
        "y = df[\"target\"]\n",
        "x_train, x_test, y_train, y_test = sklearn.model_selection.train_test_split(x, y)\n",
        "print(\"df = \", df.shape)\n",
        "print(\"x_train = \", x_train.shape)\n",
        "print(\"x_test = \", x_test.shape)\n",
        "print(\"y_train = \", y_train.shape)\n",
        "print(\"y_test = \", y_test.shape)"
      ],
      "id": "NCXrnMJU98eW",
      "execution_count": 49,
      "outputs": [
        {
          "output_type": "stream",
          "name": "stdout",
          "text": [
            "df =  (32561, 15)\n",
            "x_train =  (24420, 14)\n",
            "x_test =  (8141, 14)\n",
            "y_train =  (24420,)\n",
            "y_test =  (8141,)\n"
          ]
        }
      ]
    },
    {
      "cell_type": "markdown",
      "metadata": {
        "id": "5J2iFk2Z-dnu"
      },
      "source": [
        "One-Hot Encoding"
      ],
      "id": "5J2iFk2Z-dnu"
    },
    {
      "cell_type": "code",
      "metadata": {
        "colab": {
          "base_uri": "https://localhost:8080/"
        },
        "id": "K2p7S803-tjn",
        "outputId": "2e84735c-477c-444c-cd2e-670367bbcda7"
      },
      "source": [
        "enc = sklearn.preprocessing.OneHotEncoder(handle_unknown=\"ignore\")\n",
        "enc.fit(x_train)\n",
        "\n",
        "x_train = enc.transform(x_train)\n",
        "\n",
        "x_test = enc.transform(x_test)\n",
        "\n",
        "print(\"x_train:\", x_train.shape)\n",
        "print(\"x_test:\", x_test.shape)"
      ],
      "id": "K2p7S803-tjn",
      "execution_count": 50,
      "outputs": [
        {
          "output_type": "stream",
          "name": "stdout",
          "text": [
            "x_train: (24420, 18139)\n",
            "x_test: (8141, 18139)\n"
          ]
        }
      ]
    },
    {
      "cell_type": "markdown",
      "metadata": {
        "id": "Fbow9CCUAXXn"
      },
      "source": [
        "Standardization"
      ],
      "id": "Fbow9CCUAXXn"
    },
    {
      "cell_type": "code",
      "metadata": {
        "id": "OjoMSSXzAY66",
        "colab": {
          "base_uri": "https://localhost:8080/"
        },
        "outputId": "8032278a-17d3-44b1-dd74-63e4dd20f309"
      },
      "source": [
        "scaler = sklearn.preprocessing.StandardScaler(with_mean=False)\n",
        "scaler.fit(x_train)\n",
        "\n",
        "x_train= scaler.transform(x_train)\n",
        "\n",
        "x_test= scaler.transform(x_test)\n",
        "\n",
        "print(\"x_train:\", x_train.shape)\n",
        "print(\"x_test:\", x_test.shape)"
      ],
      "id": "OjoMSSXzAY66",
      "execution_count": 44,
      "outputs": [
        {
          "output_type": "stream",
          "name": "stdout",
          "text": [
            "x_train: (22621, 16882)\n",
            "x_test: (7541, 16882)\n"
          ]
        }
      ]
    },
    {
      "cell_type": "markdown",
      "metadata": {
        "id": "AtEJeEF1Bk7o"
      },
      "source": [
        "Training a model"
      ],
      "id": "AtEJeEF1Bk7o"
    },
    {
      "cell_type": "code",
      "metadata": {
        "id": "3NRSnOiyBmWB"
      },
      "source": [
        "model = sklearn.svm.SVC()\n",
        "model.fit(x_train, y_train);"
      ],
      "id": "3NRSnOiyBmWB",
      "execution_count": 51,
      "outputs": []
    },
    {
      "cell_type": "markdown",
      "metadata": {
        "id": "GG2UM13sMbxr"
      },
      "source": [
        "Test the Model"
      ],
      "id": "GG2UM13sMbxr"
    },
    {
      "cell_type": "code",
      "metadata": {
        "colab": {
          "base_uri": "https://localhost:8080/"
        },
        "id": "_fTLL2p5Md_6",
        "outputId": "737849e4-0f69-461f-f1b2-2046f1b3964d"
      },
      "source": [
        "y_predicted = model.predict(x_test)\n",
        "accuracy = sklearn.metrics.accuracy_score(y_test, y_predicted)\n",
        "accuracy"
      ],
      "id": "_fTLL2p5Md_6",
      "execution_count": 52,
      "outputs": [
        {
          "output_type": "execute_result",
          "data": {
            "text/plain": [
              "0.8688121852352291"
            ]
          },
          "metadata": {},
          "execution_count": 52
        }
      ]
    }
  ]
}